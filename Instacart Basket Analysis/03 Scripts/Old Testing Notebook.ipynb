{
 "cells": [
  {
   "cell_type": "markdown",
   "id": "23b650f2",
   "metadata": {},
   "source": [
    "# Notebook Prep"
   ]
  },
  {
   "cell_type": "code",
   "execution_count": null,
   "id": "82046f41",
   "metadata": {},
   "outputs": [],
   "source": [
    "#import libraries\n",
    "\n",
    "import pandas as pd\n",
    "import numpy as np\n",
    "import os\n",
    "import seaborn as sns\n",
    "import matplotlib.pyplot as plt\n",
    "import scipy"
   ]
  },
  {
   "cell_type": "code",
   "execution_count": null,
   "id": "707e61bb",
   "metadata": {},
   "outputs": [],
   "source": [
    "#Define variable: 'path'\n",
    "\n",
    "path = r'C:\\Users\\PC Planet\\Desktop\\Self-Education\\Data Immersion\\Achievement 4\\Instacart Basket Analysis'"
   ]
  },
  {
   "cell_type": "code",
   "execution_count": null,
   "id": "767d7d4e",
   "metadata": {},
   "outputs": [],
   "source": [
    "#Import test dataframe\n",
    "\n",
    "df = pd.read_pickle(os.path.join(path, '02 Data', 'Prepared Data', 'dataframe_after_exclusion.pkl'))"
   ]
  },
  {
   "cell_type": "code",
   "execution_count": null,
   "id": "43eb7221",
   "metadata": {},
   "outputs": [],
   "source": [
    "#Create subset of test dataframe\n",
    "\n",
    "df2 = df[:1000]"
   ]
  },
  {
   "cell_type": "markdown",
   "id": "74b25f67",
   "metadata": {},
   "source": [
    "# Test Code"
   ]
  },
  {
   "cell_type": "code",
   "execution_count": null,
   "id": "66b0b801",
   "metadata": {},
   "outputs": [],
   "source": [
    "#Sort dataframe by user_id and order_number\n",
    "\n",
    "df2 = df2.sort_values(['user_id','order_number'])"
   ]
  },
  {
   "cell_type": "code",
   "execution_count": null,
   "id": "d26f1ab7",
   "metadata": {},
   "outputs": [],
   "source": [
    "#Add same_user flag\n",
    "\n",
    "df2['same_user'] = np.where(df2['user_id'].eq(df2['user_id'].shift()), True, False)"
   ]
  },
  {
   "cell_type": "code",
   "execution_count": null,
   "id": "60c2eea9",
   "metadata": {},
   "outputs": [],
   "source": [
    "#Reset index\n",
    "\n",
    "df2.reset_index(inplace = True)"
   ]
  },
  {
   "cell_type": "code",
   "execution_count": null,
   "id": "7b13dac2",
   "metadata": {},
   "outputs": [],
   "source": [
    "apv = []"
   ]
  },
  {
   "cell_type": "code",
   "execution_count": null,
   "id": "f9d8b899",
   "metadata": {},
   "outputs": [],
   "source": [
    "profile = []"
   ]
  },
  {
   "cell_type": "code",
   "execution_count": null,
   "id": "10e40005",
   "metadata": {},
   "outputs": [],
   "source": [
    "#Nested For-Loops to Add Strings to 'profile' list\n",
    "\n",
    "for index, row in df2.iterrows():\n",
    "\n",
    "    if row['same_user'] == 'False':\n",
    "        profile.clear()\n",
    "\n",
    "#Income conditional\n",
    "\n",
    "        income = row['income']\n",
    "    \n",
    "        if income < 32500:\n",
    "            profile.append('Struggling')\n",
    "        elif (income >= 32500) & (income < 65000):\n",
    "            profile.append('Lower-Middle Class')\n",
    "        elif (income >= 65000) & (income < 97500):\n",
    "            profile.append('Upper-Middle Class')\n",
    "        elif (income >= 97500) & (income < 195000):\n",
    "            profile.append('High-Class')\n",
    "        elif (income >= 195000):\n",
    "            profile.append('Wealthy')\n",
    "        else: pass\n",
    "\n",
    "#Age conditional\n",
    "\n",
    "        age = row['age']\n",
    "    \n",
    "        if age < 30:\n",
    "            profile.append('Young')\n",
    "        elif (age >= 30) & (age < 45):\n",
    "            profile.append('Adult')\n",
    "        elif (age >= 45) & (age < 65):\n",
    "            profile.append('Middle-Aged')\n",
    "        elif age >= 65:\n",
    "            profile.append('Elderly')\n",
    "        else: pass\n",
    "\n",
    "#Alcohol conditional and loop\n",
    "\n",
    "    #Create subset based on current 'user_id'\n",
    "        \n",
    "        df_user = df2[df2['user_id']==row['user_id']]\n",
    "        \n",
    "    #Create second subset based on first subset and reduce to unique rows\n",
    "        \n",
    "        df_time = df_user[['order_number', 'days_since_prior_order']]\n",
    "        df_time.drop_duplicates(inplace = True)\n",
    "        df_time.reset_index(inplace = True)\n",
    "            \n",
    "    #Define initial variables\n",
    "            \n",
    "        last_order = df_time['order_number'].max()\n",
    "        day_limit = df_time.loc[df_time['order_number'] == last_order, 'days_since_prior_order']\n",
    "        earliest_order = last_order\n",
    "        number_of_orders = 1\n",
    "                    \n",
    "    #While loop to count orders over last 150 days and iterate variables\n",
    "                \n",
    "        while all((day_limit <= 150) & (earliest_order > 1)):\n",
    "            df_time.drop(df_time.tail(1).index, inplace = True)       \n",
    "            earliest_order = df_time['order_number'].max()\n",
    "            day_limit = day_limit + df_time.loc[df_time['order_number'] == earliest_order, 'days_since_prior_order']\n",
    "            number_of_orders = number_of_orders + 1\n",
    "            \n",
    "    #Drop rows outside of 150-day range \n",
    "        \n",
    "        df_user.drop(df_user[df_user['order_number'] < earliest_order].index, inplace = True)\n",
    "        df_user.reset_index(inplace = True)\n",
    "        \n",
    "    #Determine amount of alcohol purchased\n",
    "        \n",
    "        if '5' in df_user['department_id']:\n",
    "            alcohol_purchased = df_user['department_id'].value_counts()['5']\n",
    "        else: alcohol_purchased = 0\n",
    "            \n",
    "    #Calculate mean alcohol purchases per order\n",
    "        \n",
    "        alcohol_mean = alcohol_purchased / number_of_orders \n",
    "            \n",
    "    #Determine appropriate appendage\n",
    "            \n",
    "        if alcohol_purchased == 0:\n",
    "            profile.append('Abstinent')\n",
    "        elif alcohol_mean < 3:\n",
    "            profile.append('Casual-Drinking')\n",
    "        elif alcohol_mean >= 3:\n",
    "            profile.append('Heavy-Drinking')\n",
    "\n",
    "#Diet Loop\n",
    "    \n",
    "    #Determine amount of produce purchased\n",
    "        \n",
    "        if '4' in df_user['department_id']:\n",
    "            produce = df_user['department_id'].value_counts()['4']\n",
    "        else: produce = 0 \n",
    "        \n",
    "    #Determine amount of dairy purchased\n",
    "        \n",
    "        if '16' in df_user['department_id']:\n",
    "            dairy = df_user['department_id'].value_counts()['16']\n",
    "        else: dairy = 0\n",
    "            \n",
    "    #Determine amount of meat purchased\n",
    "        \n",
    "        if '12' in df_user['department_id']:\n",
    "            meat = df_user['department_id'].value_counts()['12']\n",
    "        else: meat = 0\n",
    "        \n",
    "    #Meat mean\n",
    "        \n",
    "        meat_mean = meat / number_of_orders\n",
    "                \n",
    "    #Determine appropriate appendage\n",
    "        \n",
    "        if (produce > 0) & (dairy == 0) & (meat == 0):\n",
    "            profil.append('Vegan')\n",
    "        elif (produce > 0) & (meat == 0):\n",
    "            profile.append('Vegetarian')\n",
    "        elif meat_mean > 5:\n",
    "            profile.append('Carnivorous')\n",
    "        else: pass\n",
    "\n",
    "#Marital Status conditional\n",
    "\n",
    "        if row['marital_status']=='married':\n",
    "            profile.append('Married')\n",
    "        elif row['marital_status']=='divorced/widowed':\n",
    "            profile.append('Divorced/Widowed')\n",
    "        else: profile.append('Single')\n",
    "\n",
    "#Gender conditional\n",
    "    \n",
    "        if row['gender']=='male':\n",
    "            profile.append('Male')\n",
    "        else: profile.append('Female')\n",
    "\n",
    "#Dependants Loop\n",
    "\n",
    "        dependants = row['dependants']\n",
    "    \n",
    "        if '18' in df_user['department_id']:\n",
    "            babies = df_user['department_id'].value_counts()['18']\n",
    "        else: babies = 0\n",
    "            \n",
    "        babies_mean = babies / number_of_orders\n",
    "    \n",
    "        if dependants == 0:\n",
    "            dependants_append = ''\n",
    "        elif (dependants > 0) & (babies_mean >= 1):\n",
    "            dependants_append = 'with Infant Children'\n",
    "        else: dependants_append = 'with Children'\n",
    "            \n",
    "        profile.append(dependants_append)\n",
    "\n",
    "#Pets\n",
    "    \n",
    "    #Determine amount of pet products purchased\n",
    "        \n",
    "        if '8' in df_user['department_id']:\n",
    "            pets = df_user['department_id'].value_counts()['8']\n",
    "        else: pets = 0\n",
    "        \n",
    "    #Append pets profile\n",
    "        \n",
    "        if pets >= 2:\n",
    "            if dependants_append == '':\n",
    "                profile.append('with Pets')\n",
    "            else: profile.append('and Pets')\n",
    "            \n",
    "        else: pass\n",
    "              \n",
    "#Append 'profile' list to 'apv' list\n",
    "        \n",
    "        apv.append(profile)\n",
    "        prev_profile = profile\n",
    "    \n",
    "#Append old profile if same user\n",
    "    \n",
    "    else: apv.append(prev_profile)\n",
    "        \n"
   ]
  },
  {
   "cell_type": "code",
   "execution_count": null,
   "id": "236d5a21",
   "metadata": {},
   "outputs": [],
   "source": [
    "df2['assumed_profile'] = apv"
   ]
  },
  {
   "cell_type": "code",
   "execution_count": null,
   "id": "8280ef7a",
   "metadata": {},
   "outputs": [],
   "source": [
    "df2['assumed_profile'].value_counts()"
   ]
  },
  {
   "cell_type": "code",
   "execution_count": null,
   "id": "81193362",
   "metadata": {},
   "outputs": [],
   "source": [
    "df2.head(75)"
   ]
  },
  {
   "cell_type": "code",
   "execution_count": null,
   "id": "68d28feb",
   "metadata": {},
   "outputs": [],
   "source": []
  },
  {
   "cell_type": "code",
   "execution_count": null,
   "id": "cd02b11e",
   "metadata": {},
   "outputs": [],
   "source": []
  },
  {
   "cell_type": "code",
   "execution_count": null,
   "id": "f9b553f0",
   "metadata": {},
   "outputs": [],
   "source": []
  },
  {
   "cell_type": "code",
   "execution_count": null,
   "id": "a3feef6d",
   "metadata": {},
   "outputs": [],
   "source": []
  },
  {
   "cell_type": "markdown",
   "id": "8baa3765",
   "metadata": {},
   "source": [
    "# Check Success"
   ]
  },
  {
   "cell_type": "code",
   "execution_count": null,
   "id": "8564af1a",
   "metadata": {},
   "outputs": [],
   "source": []
  }
 ],
 "metadata": {
  "kernelspec": {
   "display_name": "Python 3 (ipykernel)",
   "language": "python",
   "name": "python3"
  },
  "language_info": {
   "codemirror_mode": {
    "name": "ipython",
    "version": 3
   },
   "file_extension": ".py",
   "mimetype": "text/x-python",
   "name": "python",
   "nbconvert_exporter": "python",
   "pygments_lexer": "ipython3",
   "version": "3.9.13"
  }
 },
 "nbformat": 4,
 "nbformat_minor": 5
}

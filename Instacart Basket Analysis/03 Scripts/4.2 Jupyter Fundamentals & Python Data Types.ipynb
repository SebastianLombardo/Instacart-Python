{
 "cells": [
  {
   "cell_type": "markdown",
   "id": "9d404d36",
   "metadata": {},
   "source": [
    "# Table of Contents"
   ]
  },
  {
   "cell_type": "markdown",
   "id": "e658c213",
   "metadata": {},
   "source": [
    "## 4-5. Importing Libraries\n",
    "## 6. Working with Data Types\n",
    "    ### 7. Code 3 Different Ways to reach 100\n",
    "    ### 8. Divide 2 Floating Point Variables\n",
    "    ### 9. Construct a Short Word Made of Separate Strings\n",
    "    ### 10. Construct 2 Short Sentences Made of Separate Strings\n",
    "    ### Bonus Task: Include a Command that Makes a String Appear 100 Times"
   ]
  },
  {
   "cell_type": "markdown",
   "id": "d448ee50",
   "metadata": {},
   "source": [
    "### 4-5. Importing Libraries"
   ]
  },
  {
   "cell_type": "code",
   "execution_count": 4,
   "id": "6d22bc73",
   "metadata": {},
   "outputs": [],
   "source": [
    "#Import libraries\n",
    "import pandas as pd\n",
    "import numpy as np\n",
    "import os"
   ]
  },
  {
   "cell_type": "markdown",
   "id": "4133348e",
   "metadata": {},
   "source": [
    "### 6. Working with Data Types"
   ]
  },
  {
   "cell_type": "markdown",
   "id": "f15b6062",
   "metadata": {},
   "source": [
    "#### 7. Code 3 Different Ways to reach 100"
   ]
  },
  {
   "cell_type": "code",
   "execution_count": 5,
   "id": "5e820e94",
   "metadata": {},
   "outputs": [
    {
     "name": "stdout",
     "output_type": "stream",
     "text": [
      "100\n",
      "100\n",
      "100\n"
     ]
    }
   ],
   "source": [
    "n = 50\n",
    "\n",
    "#Method 1: adding integers directly into the variable\n",
    "x = 50 + 50\n",
    "\n",
    "#Method 2: adding a variable and an integer\n",
    "y = n + 50\n",
    "\n",
    "#Method 3: adding two variables\n",
    "z = n + n\n",
    "\n",
    "#All results 100\n",
    "print(x)\n",
    "print(y)\n",
    "print(z)"
   ]
  },
  {
   "cell_type": "markdown",
   "id": "92bd3ce0",
   "metadata": {},
   "source": [
    "#### 8. Divide 2 Floating Point Variables"
   ]
  },
  {
   "cell_type": "code",
   "execution_count": 6,
   "id": "23380435",
   "metadata": {},
   "outputs": [
    {
     "data": {
      "text/plain": [
       "62.835023041474656"
      ]
     },
     "execution_count": 6,
     "metadata": {},
     "output_type": "execute_result"
    }
   ],
   "source": [
    "k = 1363.52\n",
    "h = 21.7\n",
    "\n",
    "k/h"
   ]
  },
  {
   "cell_type": "markdown",
   "id": "6c6057eb",
   "metadata": {},
   "source": [
    "#### 9. Construct a Short Word Made of Separate Strings"
   ]
  },
  {
   "cell_type": "code",
   "execution_count": 7,
   "id": "dc75def9",
   "metadata": {},
   "outputs": [
    {
     "data": {
      "text/plain": [
       "'bookkeeper'"
      ]
     },
     "execution_count": 7,
     "metadata": {},
     "output_type": "execute_result"
    }
   ],
   "source": [
    "b = 'book'\n",
    "k = 'keeper'\n",
    "b+k"
   ]
  },
  {
   "cell_type": "markdown",
   "id": "aea3a978",
   "metadata": {},
   "source": [
    "#### 10. Construct 2 Short Sentences Made of Separate Strings"
   ]
  },
  {
   "cell_type": "code",
   "execution_count": 1,
   "id": "5c323d4f",
   "metadata": {},
   "outputs": [
    {
     "data": {
      "text/plain": [
       "'Vacuums are too loud. My toddler is louder.'"
      ]
     },
     "execution_count": 1,
     "metadata": {},
     "output_type": "execute_result"
    }
   ],
   "source": [
    "s = ' '\n",
    "v = 'Vacuums'\n",
    "a = 'are'\n",
    "t = 'too loud.'\n",
    "m = 'My toddler'\n",
    "i = 'is'\n",
    "l = 'louder.'\n",
    "v+s+a+s+t+s+m+s+i+s+l"
   ]
  },
  {
   "cell_type": "markdown",
   "id": "1f02c94c",
   "metadata": {},
   "source": [
    "#### Bonus Task: Include a Command that Makes a String Appear 100 Times"
   ]
  },
  {
   "cell_type": "code",
   "execution_count": 8,
   "id": "45c05f2b",
   "metadata": {},
   "outputs": [
    {
     "data": {
      "text/plain": [
       "'THE END IS NOT THE END IS NOT THE END IS NOT THE END IS NOT THE END IS NOT THE END IS NOT THE END IS NOT THE END IS NOT THE END IS NOT THE END IS NOT THE END IS NOT THE END IS NOT THE END IS NOT THE END IS NOT THE END IS NOT THE END IS NOT THE END IS NOT THE END IS NOT THE END IS NOT THE END IS NOT THE END IS NOT THE END IS NOT THE END IS NOT THE END IS NOT THE END IS NOT THE END IS NOT THE END IS NOT THE END IS NOT THE END IS NOT THE END IS NOT THE END IS NOT THE END IS NOT THE END IS NOT THE END IS NOT THE END IS NOT THE END IS NOT THE END IS NOT THE END IS NOT THE END IS NOT THE END IS NOT THE END IS NOT THE END IS NOT THE END IS NOT THE END IS NOT THE END IS NOT THE END IS NOT THE END IS NOT THE END IS NOT THE END IS NOT THE END IS NOT THE END IS NOT THE END IS NOT THE END IS NOT THE END IS NOT THE END IS NOT THE END IS NOT THE END IS NOT THE END IS NOT THE END IS NOT THE END IS NOT THE END IS NOT THE END IS NOT THE END IS NOT THE END IS NOT THE END IS NOT THE END IS NOT THE END IS NOT THE END IS NOT THE END IS NOT THE END IS NOT THE END IS NOT THE END IS NOT THE END IS NOT THE END IS NOT THE END IS NOT THE END IS NOT THE END IS NOT THE END IS NOT THE END IS NOT THE END IS NOT THE END IS NOT THE END IS NOT THE END IS NOT THE END IS NOT THE END IS NOT THE END IS NOT THE END IS NOT THE END IS NOT THE END IS NOT THE END IS NOT THE END IS NOT THE END IS NOT THE END IS NOT THE END IS NOT THE END IS NOT THE END IS NOT THE END IS NOT THE END IS NOT THE END IS NOT THE END IS NOT '"
      ]
     },
     "execution_count": 8,
     "metadata": {},
     "output_type": "execute_result"
    }
   ],
   "source": [
    "w = 'THE END IS NOT '\n",
    "w * 100"
   ]
  }
 ],
 "metadata": {
  "kernelspec": {
   "display_name": "Python 3 (ipykernel)",
   "language": "python",
   "name": "python3"
  },
  "language_info": {
   "codemirror_mode": {
    "name": "ipython",
    "version": 3
   },
   "file_extension": ".py",
   "mimetype": "text/x-python",
   "name": "python",
   "nbconvert_exporter": "python",
   "pygments_lexer": "ipython3",
   "version": "3.9.13"
  }
 },
 "nbformat": 4,
 "nbformat_minor": 5
}

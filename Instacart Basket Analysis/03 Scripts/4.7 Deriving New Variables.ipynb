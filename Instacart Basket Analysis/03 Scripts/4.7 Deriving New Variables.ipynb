{
 "cells": [
  {
   "cell_type": "markdown",
   "id": "557686e6",
   "metadata": {},
   "source": [
    "# Table of Contents\n",
    "\n",
    "### a. Prepare Notebook\n",
    "### b. Create conditional: 'price_label'\n",
    "### c. Use loc() method on whole set\n",
    "### d. Set busiest day column\n",
    "\n",
    "## Task\n",
    "### 2. Create new column for busiest days\n",
    "### 3. Check values of the new column\n",
    "### 4. Create new column for hours of the day\n",
    "### 5. Print frequency of the new column\n",
    "### 7. Export Dataframe"
   ]
  },
  {
   "cell_type": "markdown",
   "id": "ea631fb7",
   "metadata": {},
   "source": [
    "### a. Prepare Notebook"
   ]
  },
  {
   "cell_type": "code",
   "execution_count": 20,
   "id": "29a111a5",
   "metadata": {},
   "outputs": [],
   "source": [
    "#Import libraries\n",
    "import pandas as pd\n",
    "import numpy as np\n",
    "import os"
   ]
  },
  {
   "cell_type": "code",
   "execution_count": 21,
   "id": "d9191ebf",
   "metadata": {},
   "outputs": [],
   "source": [
    "#Import dataframe\n",
    "\n",
    "path = r'C:\\Users\\PC Planet\\Desktop\\Self-Education\\Data Immersion\\Achievement 4\\Instacart Basket Analysis'\n",
    "\n",
    "ords_prods_merged = pd.read_pickle(os.path.join(path, '02 Data', 'Prepared Data', 'orders_products_merged.pkl'))"
   ]
  },
  {
   "cell_type": "code",
   "execution_count": 8,
   "id": "c971eb94",
   "metadata": {},
   "outputs": [],
   "source": [
    "#Create subset for first million rows\n",
    "\n",
    "df = ords_prods_merged[:1000000]"
   ]
  },
  {
   "cell_type": "markdown",
   "id": "9b9c48d9",
   "metadata": {},
   "source": [
    "### b. Create conditional: 'price_label'"
   ]
  },
  {
   "cell_type": "code",
   "execution_count": 9,
   "id": "95a1bc76",
   "metadata": {},
   "outputs": [],
   "source": [
    "#Define conditional\n",
    "\n",
    "def price_label(row):\n",
    "    \n",
    "    if row['prices'] <=5:\n",
    "        return 'Low-range product'\n",
    "    elif (row['prices'] > 5) and (row['prices'] <= 15):\n",
    "        return 'Mid-range product'\n",
    "    elif row['prices'] > 15:\n",
    "        return 'High range'\n",
    "    else: return 'Not enough data'"
   ]
  },
  {
   "cell_type": "code",
   "execution_count": 10,
   "id": "d8a00850",
   "metadata": {},
   "outputs": [
    {
     "name": "stderr",
     "output_type": "stream",
     "text": [
      "C:\\Users\\PC Planet\\AppData\\Local\\Temp\\ipykernel_18912\\487175158.py:3: SettingWithCopyWarning: \n",
      "A value is trying to be set on a copy of a slice from a DataFrame.\n",
      "Try using .loc[row_indexer,col_indexer] = value instead\n",
      "\n",
      "See the caveats in the documentation: https://pandas.pydata.org/pandas-docs/stable/user_guide/indexing.html#returning-a-view-versus-a-copy\n",
      "  df['price_range'] = df.apply(price_label, axis = 1)\n"
     ]
    }
   ],
   "source": [
    "#Apply 'price_label' to dataframe\n",
    "\n",
    "df['price_range'] = df.apply(price_label, axis = 1)"
   ]
  },
  {
   "cell_type": "code",
   "execution_count": 11,
   "id": "6a44c248",
   "metadata": {},
   "outputs": [
    {
     "data": {
      "text/plain": [
       "Mid-range product    756450\n",
       "Low-range product    243550\n",
       "Name: price_range, dtype: int64"
      ]
     },
     "execution_count": 11,
     "metadata": {},
     "output_type": "execute_result"
    }
   ],
   "source": [
    "df['price_range'].value_counts(dropna = False)"
   ]
  },
  {
   "cell_type": "code",
   "execution_count": 12,
   "id": "d79033cc",
   "metadata": {},
   "outputs": [
    {
     "data": {
      "text/plain": [
       "14.8"
      ]
     },
     "execution_count": 12,
     "metadata": {},
     "output_type": "execute_result"
    }
   ],
   "source": [
    "#Check most expensive product\n",
    "\n",
    "df['prices'].max()"
   ]
  },
  {
   "cell_type": "markdown",
   "id": "82d91ff9",
   "metadata": {},
   "source": [
    "### c. Use loc() method on whole set"
   ]
  },
  {
   "cell_type": "code",
   "execution_count": 22,
   "id": "440d7b5f",
   "metadata": {},
   "outputs": [],
   "source": [
    "ords_prods_merged.loc[ords_prods_merged['prices'] > 15, 'price_range_loc'] = 'High range product'"
   ]
  },
  {
   "cell_type": "code",
   "execution_count": 23,
   "id": "2b53faf5",
   "metadata": {},
   "outputs": [],
   "source": [
    "ords_prods_merged.loc[(ords_prods_merged['prices'] > 5) & (ords_prods_merged['prices'] <= 15), 'price_range_loc'] = 'Mid-range product'"
   ]
  },
  {
   "cell_type": "code",
   "execution_count": 25,
   "id": "96f32d4e",
   "metadata": {},
   "outputs": [],
   "source": [
    "ords_prods_merged.loc[ords_prods_merged['prices'] <= 5, 'price_range_loc'] = 'Low range product'"
   ]
  },
  {
   "cell_type": "code",
   "execution_count": 26,
   "id": "a28a71fe",
   "metadata": {},
   "outputs": [
    {
     "data": {
      "text/plain": [
       "Mid-range product     21860860\n",
       "Low range product     10126321\n",
       "High range product      417678\n",
       "Name: price_range_loc, dtype: int64"
      ]
     },
     "execution_count": 26,
     "metadata": {},
     "output_type": "execute_result"
    }
   ],
   "source": [
    "ords_prods_merged['price_range_loc'].value_counts(dropna = False)"
   ]
  },
  {
   "cell_type": "markdown",
   "id": "94dfde33",
   "metadata": {},
   "source": [
    "### d. Set busiest day column"
   ]
  },
  {
   "cell_type": "code",
   "execution_count": 29,
   "id": "9d159384",
   "metadata": {},
   "outputs": [
    {
     "data": {
      "text/plain": [
       "0    6204182\n",
       "1    5660230\n",
       "6    4496490\n",
       "2    4213830\n",
       "5    4205791\n",
       "3    3840534\n",
       "4    3783802\n",
       "Name: orders_day_of_week, dtype: int64"
      ]
     },
     "execution_count": 29,
     "metadata": {},
     "output_type": "execute_result"
    }
   ],
   "source": [
    "#Check order numbers and days of week\n",
    "\n",
    "ords_prods_merged['orders_day_of_week'].value_counts(dropna=False)"
   ]
  },
  {
   "cell_type": "code",
   "execution_count": 30,
   "id": "ccd88341",
   "metadata": {},
   "outputs": [],
   "source": [
    "#Create conditional\n",
    "\n",
    "result = []\n",
    "\n",
    "for value in ords_prods_merged['orders_day_of_week']:\n",
    "    if value ==0:\n",
    "        result.append('Busiest Day')\n",
    "    elif value == 4:\n",
    "        result.append('Least Busy')\n",
    "    else:\n",
    "        result.append('Regularly Busy')"
   ]
  },
  {
   "cell_type": "code",
   "execution_count": 31,
   "id": "40e4a0fc",
   "metadata": {},
   "outputs": [],
   "source": [
    "#Create column from list\n",
    "\n",
    "ords_prods_merged['busiest_day'] = result"
   ]
  },
  {
   "cell_type": "code",
   "execution_count": 32,
   "id": "6b6e21e2",
   "metadata": {},
   "outputs": [
    {
     "data": {
      "text/plain": [
       "Regularly Busy    22416875\n",
       "Busiest Day        6204182\n",
       "Least Busy         3783802\n",
       "Name: busiest_day, dtype: int64"
      ]
     },
     "execution_count": 32,
     "metadata": {},
     "output_type": "execute_result"
    }
   ],
   "source": [
    "#Check operation\n",
    "\n",
    "ords_prods_merged['busiest_day'].value_counts(dropna = False)"
   ]
  },
  {
   "cell_type": "markdown",
   "id": "6783c6ec",
   "metadata": {},
   "source": [
    "#Task Begin"
   ]
  },
  {
   "cell_type": "markdown",
   "id": "d33efe7d",
   "metadata": {},
   "source": [
    "### 2. Create new column for busiest days"
   ]
  },
  {
   "cell_type": "code",
   "execution_count": 33,
   "id": "4d4865a1",
   "metadata": {},
   "outputs": [],
   "source": [
    "#The directions say they want the 'busiest day' column to BECOME a 'busiest days' column, so first, drop the old column\n",
    "\n",
    "ords_prods_merged = ords_prods_merged.drop(columns = ['busiest_day'])"
   ]
  },
  {
   "cell_type": "code",
   "execution_count": 34,
   "id": "bf63f0fa",
   "metadata": {},
   "outputs": [],
   "source": [
    "#Create conditional\n",
    "\n",
    "days = []\n",
    "\n",
    "for x in ords_prods_merged['orders_day_of_week']:\n",
    "    if (x == 0) or (x == 1):\n",
    "        days.append('Busy Day')\n",
    "    elif (x == 3) or (x == 4):\n",
    "        days.append('Slow Day')\n",
    "    else: days.append('Regular Day')"
   ]
  },
  {
   "cell_type": "code",
   "execution_count": 35,
   "id": "9c8e8e4e",
   "metadata": {},
   "outputs": [],
   "source": [
    "#Assign conditional to new column\n",
    "\n",
    "ords_prods_merged['busiest_days'] = days"
   ]
  },
  {
   "cell_type": "code",
   "execution_count": 36,
   "id": "a829c761",
   "metadata": {},
   "outputs": [
    {
     "data": {
      "text/html": [
       "<div>\n",
       "<style scoped>\n",
       "    .dataframe tbody tr th:only-of-type {\n",
       "        vertical-align: middle;\n",
       "    }\n",
       "\n",
       "    .dataframe tbody tr th {\n",
       "        vertical-align: top;\n",
       "    }\n",
       "\n",
       "    .dataframe thead th {\n",
       "        text-align: right;\n",
       "    }\n",
       "</style>\n",
       "<table border=\"1\" class=\"dataframe\">\n",
       "  <thead>\n",
       "    <tr style=\"text-align: right;\">\n",
       "      <th></th>\n",
       "      <th>Unnamed: 0_x</th>\n",
       "      <th>order_id</th>\n",
       "      <th>user_id</th>\n",
       "      <th>order_number</th>\n",
       "      <th>orders_day_of_week</th>\n",
       "      <th>order_hour_of_day</th>\n",
       "      <th>days_since_prior_order</th>\n",
       "      <th>product_id</th>\n",
       "      <th>add_to_cart_order</th>\n",
       "      <th>reordered</th>\n",
       "      <th>Unnamed: 0_y</th>\n",
       "      <th>product_name</th>\n",
       "      <th>aisle_id</th>\n",
       "      <th>department_id</th>\n",
       "      <th>prices</th>\n",
       "      <th>_merge</th>\n",
       "      <th>price_range_loc</th>\n",
       "      <th>busiest_days</th>\n",
       "    </tr>\n",
       "  </thead>\n",
       "  <tbody>\n",
       "    <tr>\n",
       "      <th>0</th>\n",
       "      <td>0</td>\n",
       "      <td>2539329</td>\n",
       "      <td>1</td>\n",
       "      <td>1</td>\n",
       "      <td>2</td>\n",
       "      <td>8</td>\n",
       "      <td>NaN</td>\n",
       "      <td>196</td>\n",
       "      <td>1</td>\n",
       "      <td>0</td>\n",
       "      <td>195</td>\n",
       "      <td>Soda</td>\n",
       "      <td>77</td>\n",
       "      <td>7</td>\n",
       "      <td>9.0</td>\n",
       "      <td>both</td>\n",
       "      <td>Mid-range product</td>\n",
       "      <td>Regular Day</td>\n",
       "    </tr>\n",
       "    <tr>\n",
       "      <th>1</th>\n",
       "      <td>1</td>\n",
       "      <td>2398795</td>\n",
       "      <td>1</td>\n",
       "      <td>2</td>\n",
       "      <td>3</td>\n",
       "      <td>7</td>\n",
       "      <td>15.0</td>\n",
       "      <td>196</td>\n",
       "      <td>1</td>\n",
       "      <td>1</td>\n",
       "      <td>195</td>\n",
       "      <td>Soda</td>\n",
       "      <td>77</td>\n",
       "      <td>7</td>\n",
       "      <td>9.0</td>\n",
       "      <td>both</td>\n",
       "      <td>Mid-range product</td>\n",
       "      <td>Slow Day</td>\n",
       "    </tr>\n",
       "    <tr>\n",
       "      <th>2</th>\n",
       "      <td>2</td>\n",
       "      <td>473747</td>\n",
       "      <td>1</td>\n",
       "      <td>3</td>\n",
       "      <td>3</td>\n",
       "      <td>12</td>\n",
       "      <td>21.0</td>\n",
       "      <td>196</td>\n",
       "      <td>1</td>\n",
       "      <td>1</td>\n",
       "      <td>195</td>\n",
       "      <td>Soda</td>\n",
       "      <td>77</td>\n",
       "      <td>7</td>\n",
       "      <td>9.0</td>\n",
       "      <td>both</td>\n",
       "      <td>Mid-range product</td>\n",
       "      <td>Slow Day</td>\n",
       "    </tr>\n",
       "    <tr>\n",
       "      <th>3</th>\n",
       "      <td>3</td>\n",
       "      <td>2254736</td>\n",
       "      <td>1</td>\n",
       "      <td>4</td>\n",
       "      <td>4</td>\n",
       "      <td>7</td>\n",
       "      <td>29.0</td>\n",
       "      <td>196</td>\n",
       "      <td>1</td>\n",
       "      <td>1</td>\n",
       "      <td>195</td>\n",
       "      <td>Soda</td>\n",
       "      <td>77</td>\n",
       "      <td>7</td>\n",
       "      <td>9.0</td>\n",
       "      <td>both</td>\n",
       "      <td>Mid-range product</td>\n",
       "      <td>Slow Day</td>\n",
       "    </tr>\n",
       "    <tr>\n",
       "      <th>4</th>\n",
       "      <td>4</td>\n",
       "      <td>431534</td>\n",
       "      <td>1</td>\n",
       "      <td>5</td>\n",
       "      <td>4</td>\n",
       "      <td>15</td>\n",
       "      <td>28.0</td>\n",
       "      <td>196</td>\n",
       "      <td>1</td>\n",
       "      <td>1</td>\n",
       "      <td>195</td>\n",
       "      <td>Soda</td>\n",
       "      <td>77</td>\n",
       "      <td>7</td>\n",
       "      <td>9.0</td>\n",
       "      <td>both</td>\n",
       "      <td>Mid-range product</td>\n",
       "      <td>Slow Day</td>\n",
       "    </tr>\n",
       "  </tbody>\n",
       "</table>\n",
       "</div>"
      ],
      "text/plain": [
       "   Unnamed: 0_x  order_id  user_id  order_number  orders_day_of_week  \\\n",
       "0             0   2539329        1             1                   2   \n",
       "1             1   2398795        1             2                   3   \n",
       "2             2    473747        1             3                   3   \n",
       "3             3   2254736        1             4                   4   \n",
       "4             4    431534        1             5                   4   \n",
       "\n",
       "   order_hour_of_day  days_since_prior_order  product_id  add_to_cart_order  \\\n",
       "0                  8                     NaN         196                  1   \n",
       "1                  7                    15.0         196                  1   \n",
       "2                 12                    21.0         196                  1   \n",
       "3                  7                    29.0         196                  1   \n",
       "4                 15                    28.0         196                  1   \n",
       "\n",
       "   reordered  Unnamed: 0_y product_name  aisle_id  department_id  prices  \\\n",
       "0          0           195         Soda        77              7     9.0   \n",
       "1          1           195         Soda        77              7     9.0   \n",
       "2          1           195         Soda        77              7     9.0   \n",
       "3          1           195         Soda        77              7     9.0   \n",
       "4          1           195         Soda        77              7     9.0   \n",
       "\n",
       "  _merge    price_range_loc busiest_days  \n",
       "0   both  Mid-range product  Regular Day  \n",
       "1   both  Mid-range product     Slow Day  \n",
       "2   both  Mid-range product     Slow Day  \n",
       "3   both  Mid-range product     Slow Day  \n",
       "4   both  Mid-range product     Slow Day  "
      ]
     },
     "execution_count": 36,
     "metadata": {},
     "output_type": "execute_result"
    }
   ],
   "source": [
    "#Check column headers for confirmaion\n",
    "\n",
    "ords_prods_merged.head()"
   ]
  },
  {
   "cell_type": "markdown",
   "id": "929b8d2b",
   "metadata": {},
   "source": [
    "### 3. Check values of the new column"
   ]
  },
  {
   "cell_type": "code",
   "execution_count": 37,
   "id": "9df172c4",
   "metadata": {},
   "outputs": [
    {
     "data": {
      "text/plain": [
       "Regular Day    12916111\n",
       "Busy Day       11864412\n",
       "Slow Day        7624336\n",
       "Name: busiest_days, dtype: int64"
      ]
     },
     "execution_count": 37,
     "metadata": {},
     "output_type": "execute_result"
    }
   ],
   "source": [
    "#Frequency\n",
    "\n",
    "ords_prods_merged['busiest_days'].value_counts(dropna = False)"
   ]
  },
  {
   "cell_type": "markdown",
   "id": "a6915ade",
   "metadata": {},
   "source": [
    "Total counts are identical, so no data has been dropped.\n",
    "The amount of business on the two busiest days is almost as much as three regular days (business on the busiest days goes up 138% from that of regular days).\n",
    "Business on the two slowest days drops to 89% of that of the regular days--still quite good!\n",
    "\n"
   ]
  },
  {
   "cell_type": "markdown",
   "id": "db3ebe05",
   "metadata": {},
   "source": [
    "### 4. Create new column for hours of the day"
   ]
  },
  {
   "cell_type": "code",
   "execution_count": 38,
   "id": "55d5ac06",
   "metadata": {},
   "outputs": [
    {
     "data": {
      "text/plain": [
       "10    2761760\n",
       "11    2736140\n",
       "14    2689136\n",
       "15    2662144\n",
       "13    2660954\n",
       "12    2618532\n",
       "16    2535202\n",
       "9     2454203\n",
       "17    2087654\n",
       "8     1718118\n",
       "18    1636502\n",
       "19    1258305\n",
       "20     976156\n",
       "7      891054\n",
       "21     795637\n",
       "22     634225\n",
       "23     402316\n",
       "6      290493\n",
       "0      218769\n",
       "1      115700\n",
       "5       87961\n",
       "2       69375\n",
       "4       53242\n",
       "3       51281\n",
       "Name: order_hour_of_day, dtype: int64"
      ]
     },
     "execution_count": 38,
     "metadata": {},
     "output_type": "execute_result"
    }
   ],
   "source": [
    "#Check frequency of order hours\n",
    "\n",
    "ords_prods_merged['order_hour_of_day'].value_counts(dropna = False)"
   ]
  },
  {
   "cell_type": "markdown",
   "id": "810148ef",
   "metadata": {},
   "source": [
    "We have to now define a somewhat arbitrary designation for \"most,\" \"average,\" and \"fewest.\" The easiest method would seem to be equal allocations of time, 8 hours each."
   ]
  },
  {
   "cell_type": "code",
   "execution_count": 39,
   "id": "108cebcf",
   "metadata": {},
   "outputs": [],
   "source": [
    "#Create conditional\n",
    "\n",
    "hours = []\n",
    "\n",
    "for h in ords_prods_merged['order_hour_of_day']:\n",
    "    if (h >= 9) and (h <= 16):\n",
    "        hours.append('Most Orders')\n",
    "    elif h <= 6:\n",
    "        hours.append('Fewest Orders')\n",
    "    else: hours.append('Average Orders')\n",
    "    "
   ]
  },
  {
   "cell_type": "code",
   "execution_count": 40,
   "id": "dddca188",
   "metadata": {},
   "outputs": [],
   "source": [
    "#Create column\n",
    "\n",
    "ords_prods_merged['busiest_period_of_day'] = hours"
   ]
  },
  {
   "cell_type": "markdown",
   "id": "d73b2b60",
   "metadata": {},
   "source": [
    "### 5. Print frequency of the new column"
   ]
  },
  {
   "cell_type": "code",
   "execution_count": 41,
   "id": "f2a8083f",
   "metadata": {},
   "outputs": [
    {
     "data": {
      "text/plain": [
       "Most Orders       21118071\n",
       "Average Orders    10399967\n",
       "Fewest Orders       886821\n",
       "Name: busiest_period_of_day, dtype: int64"
      ]
     },
     "execution_count": 41,
     "metadata": {},
     "output_type": "execute_result"
    }
   ],
   "source": [
    "ords_prods_merged['busiest_period_of_day'].value_counts(dropna = False)"
   ]
  },
  {
   "cell_type": "markdown",
   "id": "3f5280e2",
   "metadata": {},
   "source": [
    "### 7. Export Dataframe"
   ]
  },
  {
   "cell_type": "code",
   "execution_count": 42,
   "id": "64a9658e",
   "metadata": {},
   "outputs": [],
   "source": [
    "ords_prods_merged.to_pickle(os.path.join(path, '02 Data', 'Prepared Data', 'ords_prods_newcol.pkl'))"
   ]
  },
  {
   "cell_type": "code",
   "execution_count": null,
   "id": "ef0ca820",
   "metadata": {},
   "outputs": [],
   "source": []
  }
 ],
 "metadata": {
  "kernelspec": {
   "display_name": "Python 3 (ipykernel)",
   "language": "python",
   "name": "python3"
  },
  "language_info": {
   "codemirror_mode": {
    "name": "ipython",
    "version": 3
   },
   "file_extension": ".py",
   "mimetype": "text/x-python",
   "name": "python",
   "nbconvert_exporter": "python",
   "pygments_lexer": "ipython3",
   "version": "3.9.13"
  }
 },
 "nbformat": 4,
 "nbformat_minor": 5
}
